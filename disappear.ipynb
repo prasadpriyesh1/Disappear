{
 "cells": [
  {
   "cell_type": "code",
   "execution_count": 1,
   "metadata": {},
   "outputs": [
    {
     "name": "stdout",
     "output_type": "stream",
     "text": [
      "pygame 1.9.6\n",
      "Hello from the pygame community. https://www.pygame.org/contribute.html\n"
     ]
    }
   ],
   "source": [
    "import cv2\n",
    "import numpy as np\n",
    "import pygame\n",
    "cap = cv2.VideoCapture(0)\n",
    "#creating new window\n",
    "cv2.namedWindow('image')"
   ]
  },
  {
   "cell_type": "code",
   "execution_count": 2,
   "metadata": {},
   "outputs": [],
   "source": [
    "#capturing the first frame to act as background image\n",
    "status,Background = cap.read()\n",
    "#copying the Background tupple to another variable\n",
    "stream = Background\n",
    "#setting the threshold to filter the white pixels\n",
    "buffer = (150,150,150)\n",
    "\n",
    "while(cap.isOpened()):\n",
    "    \n",
    "    cv2.imshow('image' , stream)\n",
    "    #configuring 'c' to capture the background image you desire to overlap\n",
    "    if cv2.waitKey(1) & 0XFF == ord('c'):\n",
    "        status,Background  = cap.read()\n",
    "    elif cv2.waitKey(1) & 0XFF == 27:\n",
    "        break\n",
    "    ststus , image = cap.read()\n",
    "    #checking all the pixels and removing the pixels which satisfy  the above criteria\n",
    "    for row in range(image.shape[0]):\n",
    "        for col in range(image.shape[1]):\n",
    "            if image[row,col,0]>buffer[0] and image[row,col,1] > buffer[1] and image[row,col,2] > buffer[2]:\n",
    "                #overlaping the desired pixels with the background pixels\n",
    "                image[row,col] = Background[row,col]\n",
    "    #storing the processed imae in other variable\n",
    "    stream = image\n",
    "\n",
    "cv2.destroyAllWindows()"
   ]
  },
  {
   "cell_type": "code",
   "execution_count": null,
   "metadata": {},
   "outputs": [],
   "source": []
  }
 ],
 "metadata": {
  "kernelspec": {
   "display_name": "Python 3",
   "language": "python",
   "name": "python3"
  },
  "language_info": {
   "codemirror_mode": {
    "name": "ipython",
    "version": 3
   },
   "file_extension": ".py",
   "mimetype": "text/x-python",
   "name": "python",
   "nbconvert_exporter": "python",
   "pygments_lexer": "ipython3",
   "version": "3.7.7"
  }
 },
 "nbformat": 4,
 "nbformat_minor": 4
}
